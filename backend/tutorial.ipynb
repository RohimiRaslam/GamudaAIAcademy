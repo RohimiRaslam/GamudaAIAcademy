{
 "cells": [
  {
   "cell_type": "code",
   "execution_count": 2,
   "id": "d26c0883",
   "metadata": {},
   "outputs": [
    {
     "name": "stdout",
     "output_type": "stream",
     "text": [
      "Name: John, Age: 25\n"
     ]
    }
   ],
   "source": [
    "name = 'John'\n",
    "age = 25\n",
    "height = 1.75\n",
    "is_student = True\n",
    "\n",
    "print( f\"Name: {name}, Age: {age}\")"
   ]
  },
  {
   "cell_type": "code",
   "execution_count": 4,
   "id": "20fe1456",
   "metadata": {},
   "outputs": [
    {
     "name": "stdout",
     "output_type": "stream",
     "text": [
      "c\n",
      "co\n",
      "come\n",
      "Welco\n",
      "WELCOME\n",
      "welcome\n",
      "7\n",
      "True\n",
      "False\n",
      "Home\n"
     ]
    }
   ],
   "source": [
    "x = 'Welcome'\n",
    "\n",
    "print(x[3])\n",
    "print(x[3:5])\n",
    "print(x[3:])\n",
    "print(x[:5])\n",
    "print(x.upper())\n",
    "print(x.lower())\n",
    "print(len(x))\n",
    "print('come' in x)\n",
    "print('come1' in x)\n",
    "\n",
    "y = x.replace('Welc','H')\n",
    "\n",
    "print(y)"
   ]
  },
  {
   "cell_type": "code",
   "execution_count": 1,
   "id": "df0aaf9d",
   "metadata": {},
   "outputs": [
    {
     "name": "stdout",
     "output_type": "stream",
     "text": [
      "5.5\n",
      "0.5\n",
      "7.5\n",
      "1.2\n"
     ]
    }
   ],
   "source": [
    "x = 3\n",
    "y = 2.5\n",
    "\n",
    "print(x + y)\n",
    "print(x - y)\n",
    "print(x * y)\n",
    "print(x / y)"
   ]
  },
  {
   "cell_type": "code",
   "execution_count": 3,
   "id": "440c3ae8",
   "metadata": {},
   "outputs": [
    {
     "name": "stdout",
     "output_type": "stream",
     "text": [
      "3\n"
     ]
    }
   ],
   "source": [
    "num1 = input(\"enter a number: \")\n",
    "print(num1)"
   ]
  },
  {
   "cell_type": "code",
   "execution_count": 3,
   "id": "2ea67599",
   "metadata": {},
   "outputs": [
    {
     "name": "stdout",
     "output_type": "stream",
     "text": [
      "3.14159\n",
      "3\n",
      "4\n",
      "3.14\n",
      "3.15\n",
      "3\n",
      "3.14\n",
      "314.16%\n"
     ]
    }
   ],
   "source": [
    "import math\n",
    "z = 3.14159\n",
    "print(z)\n",
    "print(math.floor(z))\n",
    "print(math.ceil(z))\n",
    "print(math.floor(z * 100) / 100) # Returns 3.14\n",
    "print(math.ceil(z * 100) / 100) # Returns 3.15\n",
    "print(round(z))\n",
    "print(f\"{z:.2f}\") # Displays \"3.14\"\n",
    "print(f\"{z:.2%}\")"
   ]
  },
  {
   "cell_type": "code",
   "execution_count": 7,
   "id": "2429f085",
   "metadata": {},
   "outputs": [
    {
     "name": "stdout",
     "output_type": "stream",
     "text": [
      "12\n",
      "3\n"
     ]
    }
   ],
   "source": [
    "num1 = input(\"Input first digit: \") #1\n",
    "num2 = input(\"Input second digit: \") #2\n",
    "print(num1+num2) #12\n",
    "print(int(num1)+int(num2)) #3"
   ]
  },
  {
   "cell_type": "code",
   "execution_count": 28,
   "id": "595d9401",
   "metadata": {},
   "outputs": [
    {
     "name": "stdout",
     "output_type": "stream",
     "text": [
      "Adult\n"
     ]
    }
   ],
   "source": [
    "age=100\n",
    "if age >= 18:\n",
    "    print(\"Adult\")\n",
    "else:\n",
    "    print(\"Minor\")"
   ]
  },
  {
   "cell_type": "code",
   "execution_count": 31,
   "id": "a43f058d",
   "metadata": {},
   "outputs": [
    {
     "name": "stdout",
     "output_type": "stream",
     "text": [
      "adult\n"
     ]
    }
   ],
   "source": [
    "age2 = 100\n",
    "\n",
    "result = \"adult\"\n",
    "\n",
    "if age<= 17:\n",
    "    result = \"minor\"\n",
    "\n",
    "print(result)"
   ]
  },
  {
   "cell_type": "code",
   "execution_count": 39,
   "id": "fc7684f4",
   "metadata": {},
   "outputs": [
    {
     "name": "stdout",
     "output_type": "stream",
     "text": [
      "Still in school\n"
     ]
    }
   ],
   "source": [
    "age = int(input())\n",
    "if age >= 18 and age<= 20:\n",
    "    print(\"Freshman\")\n",
    "elif age > 20 and age <= 22:\n",
    "    print(\"Upperclassman\")\n",
    "elif age > 22:\n",
    "    print(\"Graduate\")\n",
    "else:\n",
    "    print(\"Still in school\")"
   ]
  },
  {
   "cell_type": "code",
   "execution_count": 8,
   "id": "d08c375d",
   "metadata": {},
   "outputs": [
    {
     "name": "stdout",
     "output_type": "stream",
     "text": [
      "a = True\n",
      "b = True\n",
      "c = False\n",
      "d = a and b and (not c) = True\n"
     ]
    }
   ],
   "source": [
    "a = True\n",
    "b = True\n",
    "c = False\n",
    "\n",
    "d = a and b and (not c)\n",
    "\n",
    "# Display the result\n",
    "print(f\"a = {a}\")\n",
    "print(f\"b = {b}\")\n",
    "print(f\"c = {c}\")\n",
    "print(f\"d = a and b and (not c) = {d}\")"
   ]
  },
  {
   "cell_type": "code",
   "execution_count": 45,
   "id": "1887a219",
   "metadata": {},
   "outputs": [
    {
     "name": "stdout",
     "output_type": "stream",
     "text": [
      "\n",
      "Counting until we reach 7:\n",
      "Number: 1\n",
      "Number: 2\n",
      "Number: 3\n",
      "Number: 4\n",
      "Number: 5\n",
      "Number: 6\n",
      "Number: 7\n",
      "Found 7! Breaking out of the loop.\n",
      "Loop finished\n"
     ]
    }
   ],
   "source": [
    "# Stop the loop when a condition is met\n",
    "print(\"\\nCounting until we reach 7:\")\n",
    "for i in range(1, 20):\n",
    "    print(f\"Number: {i}\")\n",
    "    if i == 7:\n",
    "        print(\"Found 7! Breaking out of the loop.\")\n",
    "        break # Exit the loop completely\n",
    "print(\"Loop finished\")"
   ]
  },
  {
   "cell_type": "code",
   "execution_count": null,
   "id": "ff8ba4c3",
   "metadata": {},
   "outputs": [
    {
     "name": "stdout",
     "output_type": "stream",
     "text": [
      "\n",
      "Printing only odd numbers from 1 to 10:\n",
      "Odd number: 1\n",
      "Odd number: 3\n",
      "Odd number: 5\n",
      "Odd number: 7\n",
      "Odd number: 9\n",
      "Odd number: 11\n",
      "Odd number: 13\n",
      "Odd number: 15\n",
      "Odd number: 17\n",
      "Odd number: 19\n"
     ]
    }
   ],
   "source": [
    "print(\"\\nPrinting only odd numbers from 1 to 10:\")\n",
    "for i in range(1, 20):\n",
    "    if i % 2 == 0:\n",
    "        continue # Skip the rest of the loop for this iteration\n",
    "    print(f\"Odd number: {i}\")"
   ]
  },
  {
   "cell_type": "code",
   "execution_count": 57,
   "id": "21b9300d",
   "metadata": {},
   "outputs": [
    {
     "name": "stdout",
     "output_type": "stream",
     "text": [
      "Local x: 10\n",
      "Global x: 10\n"
     ]
    }
   ],
   "source": [
    "x = 10\n",
    "def without_global():\n",
    "    global x\n",
    "    # x = 5 # This creates a new local variable, doesn't affect the global x\n",
    "    print(f\"Local x: {x}\")\n",
    "without_global() # Output: Local x\n",
    "print(f\"Global x: {x}\") # Output: Global x: 10"
   ]
  },
  {
   "cell_type": "code",
   "execution_count": 55,
   "id": "62fadfda",
   "metadata": {},
   "outputs": [
    {
     "name": "stdout",
     "output_type": "stream",
     "text": [
      "44.5946\n"
     ]
    }
   ],
   "source": [
    "def fahrenheitConverter():\n",
    "    c = float(input())\n",
    "    f = (c * 9 /5) +32\n",
    "    return f\n",
    "\n",
    "fahrenheit = fahrenheitConverter()\n",
    "\n",
    "print(fahrenheit)\n"
   ]
  },
  {
   "cell_type": "code",
   "execution_count": 4,
   "id": "6d36b7e3",
   "metadata": {},
   "outputs": [
    {
     "name": "stdout",
     "output_type": "stream",
     "text": [
      "['apple', 'banana', 'orange']\n",
      "['apple', 'banana', 'orange', 'grape']\n",
      "['banana', 'orange', 'grape']\n",
      "banana\n",
      "grape\n",
      "['banana', 'mango', 'orange', 'grape']\n"
     ]
    }
   ],
   "source": [
    "fruits = [\"apple\", \"banana\", \"orange\"]\n",
    "print(fruits)\n",
    "fruits.append(\"grape\")\n",
    "print(fruits)\n",
    "fruits.remove(\"apple\")\n",
    "print(fruits)\n",
    "print(fruits[0])\n",
    "print(fruits[-1])\n",
    "fruits.insert(1, \"mango\")\n",
    "print(fruits)"
   ]
  },
  {
   "cell_type": "code",
   "execution_count": 7,
   "id": "9bbb62b6",
   "metadata": {},
   "outputs": [
    {
     "name": "stdout",
     "output_type": "stream",
     "text": [
      "[1, 1, 2, 3, 4, 5, 9]\n",
      "[9, 5, 4, 3, 2, 1, 1]\n",
      "2\n",
      "1\n"
     ]
    }
   ],
   "source": [
    "numbers = [3, 1, 4, 1, 5, 9, 2]\n",
    "\n",
    "# Sorting\n",
    "numbers.sort()\n",
    "print(numbers)\n",
    "# Reversing\n",
    "numbers.reverse()\n",
    "print(numbers)\n",
    "# Counting occurrences\n",
    "print(numbers.count(1))\n",
    "# Finding index\n",
    "print(numbers.index(5))"
   ]
  },
  {
   "cell_type": "code",
   "execution_count": 11,
   "id": "50853029",
   "metadata": {},
   "outputs": [
    {
     "name": "stdout",
     "output_type": "stream",
     "text": [
      "[1, 3, 5]\n",
      "[1, 3, 5]\n"
     ]
    }
   ],
   "source": [
    "numbers = [3, 5, 1]\n",
    "num = numbers\n",
    "num.sort()\n",
    "print(numbers) #[1,3,5]\n",
    "print(num) #[1,3,5]"
   ]
  },
  {
   "cell_type": "code",
   "execution_count": 28,
   "id": "353fbc72",
   "metadata": {},
   "outputs": [
    {
     "name": "stdout",
     "output_type": "stream",
     "text": [
      "[3, 5, 1]\n",
      "[1, 3, 5]\n"
     ]
    }
   ],
   "source": [
    "numbers = [3, 5, 1]\n",
    "num = numbers.copy()\n",
    "num.sort()\n",
    "print(numbers) #[1,3,5]\n",
    "print(num) #[1,3,5]"
   ]
  },
  {
   "cell_type": "code",
   "execution_count": 127,
   "id": "2a81e6e6",
   "metadata": {},
   "outputs": [],
   "source": [
    "todos = []"
   ]
  },
  {
   "cell_type": "code",
   "execution_count": 128,
   "id": "af7c727a",
   "metadata": {},
   "outputs": [
    {
     "name": "stdout",
     "output_type": "stream",
     "text": [
      "My To-Do List:\n",
      "1. hi\n"
     ]
    }
   ],
   "source": [
    "# todos = []\n",
    "\n",
    "# todos.append(\"Learn python\")\n",
    "# todos.append(\"Practice coding\")\n",
    "# todos.append(\"Take a break\")\n",
    "todos.append(input(\"enter task\"))\n",
    "print(\"My To-Do List:\")\n",
    "for index, task in enumerate(todos, 1):\n",
    "    print(f\"{index}. {task}\")"
   ]
  },
  {
   "cell_type": "code",
   "execution_count": 70,
   "id": "e2dcfb10",
   "metadata": {},
   "outputs": [
    {
     "name": "stdout",
     "output_type": "stream",
     "text": [
      "============================\n",
      "============================\n"
     ]
    }
   ],
   "source": [
    "students = [\n",
    "    {\"name\": [\"Alex\", \"Hallberg\"]},\n",
    "    {\"age\": 20},\n",
    "    {\"major\": \"Computer Science\"}]\n",
    "# Iterate through keys (default)\n",
    "# for key in student:\n",
    "#     print(key)\n",
    "print(\"============================\")\n",
    "# Iterate through values\n",
    "# for value in student.values():\n",
    "#     print(value)\n",
    "print(\"============================\")\n",
    "# Iterate through key-value pairs\n",
    "# for key, value in student.items():\n",
    "#     print(f\"{key}: {value}\")"
   ]
  },
  {
   "cell_type": "code",
   "execution_count": 75,
   "id": "51575e3c",
   "metadata": {},
   "outputs": [],
   "source": [
    "students = [\n",
    "    {\"name\": [\"Alex\", \"Hallberg\"],\n",
    "    \"age\": 20,\n",
    "    \"major\": \"Computer Science\"},\n",
    "    {\"name\": [\"John\", \"Hopkins\"],\n",
    "    \"age\": 25,\n",
    "    \"major\": \"Pure science\"},\n",
    "    {\"name\": [\"Maru\", \"Etsu\"],\n",
    "    \"age\": 30,\n",
    "    \"major\": \"OpenCV\"}]"
   ]
  },
  {
   "cell_type": "code",
   "execution_count": 76,
   "id": "5f42939e",
   "metadata": {},
   "outputs": [
    {
     "name": "stdout",
     "output_type": "stream",
     "text": [
      "name : ['Alex', 'Hallberg']\n",
      "age : 20\n",
      "major : Computer Science\n",
      "============================\n",
      "name : ['John', 'Hopkins']\n",
      "age : 25\n",
      "major : Pure science\n",
      "============================\n",
      "name : ['Maru', 'Etsu']\n",
      "age : 30\n",
      "major : OpenCV\n",
      "============================\n"
     ]
    }
   ],
   "source": [
    "for student in students:\n",
    "    for key, value in student.items():\n",
    "        print(f\"{key} : {value}\")\n",
    "    print(\"============================\")\n"
   ]
  },
  {
   "cell_type": "code",
   "execution_count": 82,
   "id": "f8d0791f",
   "metadata": {},
   "outputs": [
    {
     "name": "stdout",
     "output_type": "stream",
     "text": [
      "An error has occured\n"
     ]
    }
   ],
   "source": [
    "try:\n",
    "    result = 10/0\n",
    "except:\n",
    "    print(\"An error has occured\")"
   ]
  },
  {
   "cell_type": "code",
   "execution_count": 103,
   "id": "d3200915",
   "metadata": {},
   "outputs": [
    {
     "name": "stdout",
     "output_type": "stream",
     "text": [
      "error, denominator should not be value 0\n",
      "Closing resource...\n",
      "The finally block always runs, regardless the exception\n"
     ]
    }
   ],
   "source": [
    "try:\n",
    "    numer = 10\n",
    "    denom = 0\n",
    "    result = float(numer/denom)\n",
    "\n",
    "except:\n",
    "    # import sys\n",
    "\n",
    "    # exc_type, exc_value, exc_traceback = sys.exc_info()\n",
    "    # line_no = exc_traceback.tb_lineno\n",
    "    print(\"error, denominator should not be value 0\")\n",
    "\n",
    "else:\n",
    "    print(f\"Division success, result is {result}\")\n",
    "    print(\"the else block runs when no exception occure in the try block\")\n",
    "\n",
    "finally:\n",
    "    print(\"Closing resource...\")\n",
    "    print(\"The finally block always runs, regardless the exception\")"
   ]
  },
  {
   "cell_type": "code",
   "execution_count": 119,
   "id": "38b9aa01",
   "metadata": {},
   "outputs": [
    {
     "name": "stdout",
     "output_type": "stream",
     "text": [
      "\n",
      "--- Error Information ---\n",
      "Error type: ZeroDivisionError\n",
      "Error message: division by zero\n",
      "\n",
      "--- Location Information ---\n",
      "File: C:\\Users\\mrohi\\AppData\\Local\\Temp\\ipykernel_2576\\4109495701.py\n",
      "Line number: 5\n",
      "Function: <module>\n",
      "\n",
      "--- Full traceback ---\n",
      "Closing resource...\n",
      "The finally block always runs, regardless the exception\n"
     ]
    },
    {
     "name": "stderr",
     "output_type": "stream",
     "text": [
      "Traceback (most recent call last):\n",
      "  File \"C:\\Users\\mrohi\\AppData\\Local\\Temp\\ipykernel_2576\\4109495701.py\", line 5, in <module>\n",
      "    10/0\n",
      "    ~~^~\n",
      "ZeroDivisionError: division by zero\n"
     ]
    }
   ],
   "source": [
    "import traceback\n",
    "import sys\n",
    "\n",
    "try:\n",
    "    10/0\n",
    "\n",
    "except:\n",
    "\n",
    "    exc_type, exc_value, exc_traceback = sys.exc_info()\n",
    "\n",
    "    print(\"\\n--- Error Information ---\")\n",
    "    print(f\"Error type: {exc_type.__name__}\")\n",
    "    print(f\"Error message: {exc_value}\")\n",
    "        \n",
    "    tb_frame = exc_traceback.tb_frame\n",
    "    line_no = exc_traceback.tb_lineno\n",
    "\n",
    "    print(\"\\n--- Location Information ---\")\n",
    "    print(f\"File: {tb_frame.f_code.co_filename}\")\n",
    "    print(f\"Line number: {line_no}\")\n",
    "    print(f\"Function: {tb_frame.f_code.co_name}\")\n",
    "\n",
    "    print(\"\\n--- Full traceback ---\")\n",
    "    traceback.print_exc()\n",
    "\n",
    "else:\n",
    "    print(f\"Division success, result is {result}\")\n",
    "    print(\"the else block runs when no exception occure in the try block\")\n",
    "\n",
    "finally:\n",
    "    print(\"Closing resource...\")\n",
    "    print(\"The finally block always runs, regardless the exception\")\n",
    "\n"
   ]
  },
  {
   "cell_type": "code",
   "execution_count": 1,
   "id": "9adf846d",
   "metadata": {},
   "outputs": [],
   "source": [
    "from sqlalchemy import create_engine , Column, Integer, String\n",
    "from sqlalchemy.orm import sessionmaker, declarative_base\n",
    "\n",
    "DB_USERNAME = \"airflow\"\n",
    "DB_PASSWORD = \"airflow\"\n",
    "DB_HOST = \"localhost\"\n",
    "DB_NAME = \"user_db\"\n",
    "DATABASE_URL = f'postgresql+psycopg2://{DB_USERNAME}:{DB_PASSWORD}@{DB_HOST}:5432/{DB_NAME}'\n",
    "\n",
    "engine = create_engine(DATABASE_URL)\n",
    "\n",
    "Base = declarative_base()\n",
    "\n",
    "Session = sessionmaker(bind=engine)\n",
    "session =Session()"
   ]
  },
  {
   "cell_type": "code",
   "execution_count": 2,
   "id": "c4a50d72",
   "metadata": {},
   "outputs": [],
   "source": [
    "class User(Base):\n",
    "    __tablename__ = \"users\"\n",
    "    __table_args__ = {'extend_existing': True}\n",
    "    id = Column(Integer, primary_key=True, autoincrement=True)\n",
    "    name = Column(String, nullable=False)\n",
    "    email = Column(String, unique=True, nullable=False)\n",
    "\n",
    "Base.metadata.create_all(engine)"
   ]
  },
  {
   "cell_type": "code",
   "execution_count": 3,
   "id": "360edc84",
   "metadata": {},
   "outputs": [
    {
     "name": "stdout",
     "output_type": "stream",
     "text": [
      "added user id: 1\n"
     ]
    }
   ],
   "source": [
    "new_user = User(name = \"Jane Smith\" , email = \"jane@example.com\")\n",
    "session.add(new_user)\n",
    "session.commit()\n",
    "print(f\"added user id: {new_user.id}\")"
   ]
  },
  {
   "cell_type": "code",
   "execution_count": 37,
   "id": "d3dc9159",
   "metadata": {},
   "outputs": [
    {
     "name": "stdout",
     "output_type": "stream",
     "text": [
      "added user id: 1\n"
     ]
    }
   ],
   "source": [
    "session.add(User(name = \"lol smith\" , email = \"lolsmith@example.com\"))\n",
    "session.commit()\n",
    "print(f\"added user id: {new_user.id}\")"
   ]
  },
  {
   "cell_type": "code",
   "execution_count": 4,
   "id": "e9bcce26",
   "metadata": {},
   "outputs": [
    {
     "name": "stdout",
     "output_type": "stream",
     "text": [
      "found Jane Smith\n",
      "ID: 1, Name: Jane Smith, Email: jane@example.com\n"
     ]
    }
   ],
   "source": [
    "user = session.query(User).filter_by(id=1).first()\n",
    "if user:\n",
    "    print(f\"found {user.name}\")\n",
    "\n",
    "users = session.query(User).all()\n",
    "\n",
    "for user in users:\n",
    "    print(f\"ID: {user.id}, Name: {user.name}, Email: {user.email}\")"
   ]
  },
  {
   "cell_type": "code",
   "execution_count": 5,
   "id": "977b2cc8",
   "metadata": {},
   "outputs": [
    {
     "name": "stdout",
     "output_type": "stream",
     "text": [
      "user updated\n"
     ]
    }
   ],
   "source": [
    "user = session.query(User).filter_by(id=1).first()\n",
    "\n",
    "if user:\n",
    "    user.name = \"Jane Doe\"\n",
    "    session.commit()\n",
    "    print(\"user updated\")"
   ]
  },
  {
   "cell_type": "code",
   "execution_count": 7,
   "id": "2056677a",
   "metadata": {},
   "outputs": [
    {
     "name": "stdout",
     "output_type": "stream",
     "text": [
      "user deleted\n"
     ]
    }
   ],
   "source": [
    "user = session.query(User).filter_by(id=1).first()\n",
    "if user:\n",
    "    session.delete(user)\n",
    "    session.commit()\n",
    "    print(\"user deleted\")"
   ]
  },
  {
   "cell_type": "code",
   "execution_count": 11,
   "id": "3ef07414",
   "metadata": {},
   "outputs": [],
   "source": [
    "user2 = User(name=\"Charlie\", email=\"charlie@example.com\")\n",
    "session.add(user2)\n",
    "session.commit()\n",
    "# print(f\"added user id: {session.add(name=\"Charlie\", email=\"charlie@example.com\").id}\")"
   ]
  },
  {
   "cell_type": "code",
   "execution_count": 12,
   "id": "f50736c5",
   "metadata": {},
   "outputs": [],
   "source": [
    "user3 = User(name=\"Charliez\", email=\"charliez@example.com\")\n",
    "session.add(user3)\n",
    "session.commit()"
   ]
  },
  {
   "cell_type": "code",
   "execution_count": 38,
   "id": "85a1e4c0",
   "metadata": {},
   "outputs": [
    {
     "name": "stdout",
     "output_type": "stream",
     "text": [
      "ID: 2, Name: Charlie, Email: charlie@example.com\n",
      "ID: 3, Name: Charliez, Email: charliez@example.com\n",
      "ID: 4, Name: lol smith, Email: lolsmith@example.com\n"
     ]
    }
   ],
   "source": [
    "users = session.query(User).all()\n",
    "\n",
    "for user in users:\n",
    "    print(f\"ID: {user.id}, Name: {user.name}, Email: {user.email}\")"
   ]
  },
  {
   "cell_type": "code",
   "execution_count": null,
   "id": "3583fa73",
   "metadata": {},
   "outputs": [
    {
     "name": "stdout",
     "output_type": "stream",
     "text": [
      "id : 2, name: Charlie, email: charlie@example.com\n",
      "id : 3, name: Charliez, email: charliez@example.com\n",
      "id : 4, name: lol smith, email: lolsmith@example.com\n"
     ]
    }
   ],
   "source": [
    "users = session.query(User).order_by(User.id).all()\n",
    "for user in users:\n",
    "    print(f\"id : {user.id}, name: {user.name}, email: {user.email}\")"
   ]
  },
  {
   "cell_type": "code",
   "execution_count": 41,
   "id": "a67d62a9",
   "metadata": {},
   "outputs": [
    {
     "name": "stdout",
     "output_type": "stream",
     "text": [
      "id : 4, name: lol smith, email: lolsmith@example.com\n",
      "id : 3, name: Charliez, email: charliez@example.com\n",
      "id : 2, name: Charlie, email: charlie@example.com\n"
     ]
    }
   ],
   "source": [
    "from sqlalchemy import desc\n",
    "\n",
    "users = session.query(User).order_by(desc(User.id)).all()\n",
    "for user in users:\n",
    "    print(f\"id : {user.id}, name: {user.name}, email: {user.email}\")"
   ]
  },
  {
   "cell_type": "code",
   "execution_count": 2,
   "id": "998ea2d2",
   "metadata": {},
   "outputs": [
    {
     "name": "stdout",
     "output_type": "stream",
     "text": [
      "added new column\n"
     ]
    }
   ],
   "source": [
    "from sqlalchemy import text\n",
    "\n",
    "with engine.connect() as conn:\n",
    "    conn.execute(text(\n",
    "        \"ALTER TABLE users ADD COLUMN phone_number VARCHAR\"))\n",
    "    conn.commit()\n",
    "    print(\"added new column\")"
   ]
  },
  {
   "cell_type": "code",
   "execution_count": 12,
   "id": "075a3565",
   "metadata": {},
   "outputs": [],
   "source": [
    "from typing import List, Optional\n",
    "from pydantic import BaseModel\n",
    "from fastapi import FastAPI\n",
    "\n",
    "app = FastAPI()\n",
    "\n",
    "class ItemResponse(BaseModel):\n",
    "    id: int\n",
    "    name: str\n",
    "    description: Optional[str] = None\n",
    "\n",
    "itemResponse= [\n",
    "    {\n",
    "        \"id\":1,\n",
    "        \"name\": \"Item 1\",\n",
    "        \"description\": \"description for item 1\"\n",
    "    },\n",
    "    {\n",
    "        \"id\":2,\n",
    "        \"name\": \"Item 2\",\n",
    "        \"description\": \"descriotion for item 2\"\n",
    "    },\n",
    "    {\n",
    "        \"id\":3,\n",
    "        \"name\": \"Item 3\",\n",
    "        \"description\": \"descriotion for item 3\"\n",
    "    }\n",
    "]\n",
    "\n",
    "@app.get(\"/itemsresponse\", response_model = List[ItemResponse])\n",
    "def get_items_response():\n",
    "    return itemResponse"
   ]
  },
  {
   "cell_type": "code",
   "execution_count": null,
   "id": "a747b42d",
   "metadata": {},
   "outputs": [],
   "source": []
  }
 ],
 "metadata": {
  "kernelspec": {
   "display_name": "testenv",
   "language": "python",
   "name": "python3"
  },
  "language_info": {
   "codemirror_mode": {
    "name": "ipython",
    "version": 3
   },
   "file_extension": ".py",
   "mimetype": "text/x-python",
   "name": "python",
   "nbconvert_exporter": "python",
   "pygments_lexer": "ipython3",
   "version": "3.12.7"
  }
 },
 "nbformat": 4,
 "nbformat_minor": 5
}
